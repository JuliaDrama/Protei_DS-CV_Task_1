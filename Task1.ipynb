{
 "cells": [
  {
   "cell_type": "code",
   "execution_count": 45,
   "id": "91d28deb-6135-4c60-bd36-279aab5ecc3b",
   "metadata": {},
   "outputs": [],
   "source": [
    "import numpy as np \n",
    "import scipy, sklearn\n",
    "from sklearn.model_selection import train_test_split\n",
    "from sklearn.preprocessing import StandardScaler  # из модуля preprocessing библиотеки sklearn имрорт функциии StandardScaler\n",
    "from matplotlib import pyplot as plt\n",
    "import matplotlib\n",
    "from sklearn.linear_model import LinearRegression # импорт из модуля linear_model функцию для создания модели линейной регресии\n",
    "import datetime\n",
    "from sklearn.metrics import mean_squared_error  # импорт метрик для оценки данных\n"
   ]
  },
  {
   "cell_type": "code",
   "execution_count": 46,
   "id": "8817b361-ac13-4892-abb7-25b9d23ec22e",
   "metadata": {},
   "outputs": [
    {
     "name": "stdout",
     "output_type": "stream",
     "text": [
      "1.24.2\n",
      "1.11.4\n",
      "1.4.0\n",
      "3.7.1\n"
     ]
    }
   ],
   "source": [
    "print(np.__version__)\n",
    "print(scipy.__version__)\n",
    "print(sklearn.__version__)\n",
    "print(matplotlib.__version__)"
   ]
  },
  {
   "cell_type": "code",
   "execution_count": 47,
   "id": "1ff4910c-54d3-4996-a1fa-a57c08b15396",
   "metadata": {},
   "outputs": [],
   "source": [
    "import pandas as pd\n",
    "\n",
    "df = pd.read_csv('time_messagees.txt', sep=',')"
   ]
  },
  {
   "cell_type": "code",
   "execution_count": 48,
   "id": "dddd4cdf-2d6b-4e8d-ae89-e3e645287969",
   "metadata": {},
   "outputs": [
    {
     "name": "stdout",
     "output_type": "stream",
     "text": [
      "           time  count_messages\n",
      "0      00:00:00             0.0\n",
      "1      00:00:01             1.0\n",
      "2      00:00:02             0.0\n",
      "3      00:00:03             6.0\n",
      "4      00:00:04             7.0\n",
      "...         ...             ...\n",
      "86391  23:59:51             0.0\n",
      "86392  23:59:52             0.0\n",
      "86393  23:59:53             3.0\n",
      "86394  23:59:54             1.0\n",
      "86395  23:59:55             1.0\n",
      "\n",
      "[86396 rows x 2 columns]\n"
     ]
    }
   ],
   "source": [
    "print(df)"
   ]
  },
  {
   "cell_type": "code",
   "execution_count": 49,
   "id": "ef34c7be-a587-467f-ace8-4cb390ae3a6e",
   "metadata": {},
   "outputs": [
    {
     "data": {
      "text/plain": [
       "time               object\n",
       "count_messages    float64\n",
       "dtype: object"
      ]
     },
     "execution_count": 49,
     "metadata": {},
     "output_type": "execute_result"
    }
   ],
   "source": [
    "df.dtypes"
   ]
  },
  {
   "cell_type": "code",
   "execution_count": 50,
   "id": "d77b3ef7-4093-43ab-967d-352cd36b3bae",
   "metadata": {},
   "outputs": [],
   "source": [
    "X = df['time'] # столбец с целевой переменной target (вектор)\n",
    "y = df['count_messages'] # признак"
   ]
  },
  {
   "cell_type": "code",
   "execution_count": 51,
   "id": "b1d5de39-702e-4a2a-95a2-7652d38d41e0",
   "metadata": {},
   "outputs": [],
   "source": [
    "X = pd.to_datetime(df['time'], format='%H:%M:%S')"
   ]
  },
  {
   "cell_type": "code",
   "execution_count": 52,
   "id": "9342a641-8556-4de8-89ed-5ec91a5d0f5a",
   "metadata": {},
   "outputs": [],
   "source": [
    "X = ((X.dt.hour*60+X.dt.minute)*60 + X.dt.second).to_frame()"
   ]
  },
  {
   "cell_type": "code",
   "execution_count": 53,
   "id": "f3752998-c626-46e8-98db-b4eb5bc888a6",
   "metadata": {},
   "outputs": [],
   "source": [
    "#Стандартизация данных перед работой с алгоритмами:\n",
    "sc = StandardScaler()  # Создание объекта стандартизатора\n",
    "X_c = sc.fit_transform(X)  # # Применение стандартизации к признакам X и сохранение результата в X_c"
   ]
  },
  {
   "cell_type": "code",
   "execution_count": 54,
   "id": "5e29aba7-f53e-4581-99e1-3e45f463e89a",
   "metadata": {},
   "outputs": [],
   "source": [
    "# Разделение выборки на тренировочный и валидационный наборы с\n",
    "# помощью train_test_split, X- признак, y – целевой признак,\n",
    "\n",
    "X_train,X_valid,y_train,y_valid = train_test_split(X_c,\n",
    "                                                   y,\n",
    "                                                   test_size=0.25,\n",
    "                                                   random_state=0)\n"
   ]
  },
  {
   "cell_type": "code",
   "execution_count": 55,
   "id": "7cd7671b-a839-420e-9109-edbd61dda8df",
   "metadata": {},
   "outputs": [
    {
     "data": {
      "text/plain": [
       "array([[-1.73203076],\n",
       "       [-1.73199066],\n",
       "       [-1.73195057],\n",
       "       ...,\n",
       "       [ 1.73195057],\n",
       "       [ 1.73199066],\n",
       "       [ 1.73203076]])"
      ]
     },
     "execution_count": 55,
     "metadata": {},
     "output_type": "execute_result"
    }
   ],
   "source": [
    "X_c"
   ]
  },
  {
   "cell_type": "code",
   "execution_count": 56,
   "id": "2b4aa7fa-8208-4e9c-8e37-29f81d3bdda2",
   "metadata": {},
   "outputs": [
    {
     "data": {
      "text/html": [
       "<style>#sk-container-id-2 {\n",
       "  /* Definition of color scheme common for light and dark mode */\n",
       "  --sklearn-color-text: black;\n",
       "  --sklearn-color-line: gray;\n",
       "  /* Definition of color scheme for unfitted estimators */\n",
       "  --sklearn-color-unfitted-level-0: #fff5e6;\n",
       "  --sklearn-color-unfitted-level-1: #f6e4d2;\n",
       "  --sklearn-color-unfitted-level-2: #ffe0b3;\n",
       "  --sklearn-color-unfitted-level-3: chocolate;\n",
       "  /* Definition of color scheme for fitted estimators */\n",
       "  --sklearn-color-fitted-level-0: #f0f8ff;\n",
       "  --sklearn-color-fitted-level-1: #d4ebff;\n",
       "  --sklearn-color-fitted-level-2: #b3dbfd;\n",
       "  --sklearn-color-fitted-level-3: cornflowerblue;\n",
       "\n",
       "  /* Specific color for light theme */\n",
       "  --sklearn-color-text-on-default-background: var(--sg-text-color, var(--theme-code-foreground, var(--jp-content-font-color1, black)));\n",
       "  --sklearn-color-background: var(--sg-background-color, var(--theme-background, var(--jp-layout-color0, white)));\n",
       "  --sklearn-color-border-box: var(--sg-text-color, var(--theme-code-foreground, var(--jp-content-font-color1, black)));\n",
       "  --sklearn-color-icon: #696969;\n",
       "\n",
       "  @media (prefers-color-scheme: dark) {\n",
       "    /* Redefinition of color scheme for dark theme */\n",
       "    --sklearn-color-text-on-default-background: var(--sg-text-color, var(--theme-code-foreground, var(--jp-content-font-color1, white)));\n",
       "    --sklearn-color-background: var(--sg-background-color, var(--theme-background, var(--jp-layout-color0, #111)));\n",
       "    --sklearn-color-border-box: var(--sg-text-color, var(--theme-code-foreground, var(--jp-content-font-color1, white)));\n",
       "    --sklearn-color-icon: #878787;\n",
       "  }\n",
       "}\n",
       "\n",
       "#sk-container-id-2 {\n",
       "  color: var(--sklearn-color-text);\n",
       "}\n",
       "\n",
       "#sk-container-id-2 pre {\n",
       "  padding: 0;\n",
       "}\n",
       "\n",
       "#sk-container-id-2 input.sk-hidden--visually {\n",
       "  border: 0;\n",
       "  clip: rect(1px 1px 1px 1px);\n",
       "  clip: rect(1px, 1px, 1px, 1px);\n",
       "  height: 1px;\n",
       "  margin: -1px;\n",
       "  overflow: hidden;\n",
       "  padding: 0;\n",
       "  position: absolute;\n",
       "  width: 1px;\n",
       "}\n",
       "\n",
       "#sk-container-id-2 div.sk-dashed-wrapped {\n",
       "  border: 1px dashed var(--sklearn-color-line);\n",
       "  margin: 0 0.4em 0.5em 0.4em;\n",
       "  box-sizing: border-box;\n",
       "  padding-bottom: 0.4em;\n",
       "  background-color: var(--sklearn-color-background);\n",
       "}\n",
       "\n",
       "#sk-container-id-2 div.sk-container {\n",
       "  /* jupyter's `normalize.less` sets `[hidden] { display: none; }`\n",
       "     but bootstrap.min.css set `[hidden] { display: none !important; }`\n",
       "     so we also need the `!important` here to be able to override the\n",
       "     default hidden behavior on the sphinx rendered scikit-learn.org.\n",
       "     See: https://github.com/scikit-learn/scikit-learn/issues/21755 */\n",
       "  display: inline-block !important;\n",
       "  position: relative;\n",
       "}\n",
       "\n",
       "#sk-container-id-2 div.sk-text-repr-fallback {\n",
       "  display: none;\n",
       "}\n",
       "\n",
       "div.sk-parallel-item,\n",
       "div.sk-serial,\n",
       "div.sk-item {\n",
       "  /* draw centered vertical line to link estimators */\n",
       "  background-image: linear-gradient(var(--sklearn-color-text-on-default-background), var(--sklearn-color-text-on-default-background));\n",
       "  background-size: 2px 100%;\n",
       "  background-repeat: no-repeat;\n",
       "  background-position: center center;\n",
       "}\n",
       "\n",
       "/* Parallel-specific style estimator block */\n",
       "\n",
       "#sk-container-id-2 div.sk-parallel-item::after {\n",
       "  content: \"\";\n",
       "  width: 100%;\n",
       "  border-bottom: 2px solid var(--sklearn-color-text-on-default-background);\n",
       "  flex-grow: 1;\n",
       "}\n",
       "\n",
       "#sk-container-id-2 div.sk-parallel {\n",
       "  display: flex;\n",
       "  align-items: stretch;\n",
       "  justify-content: center;\n",
       "  background-color: var(--sklearn-color-background);\n",
       "  position: relative;\n",
       "}\n",
       "\n",
       "#sk-container-id-2 div.sk-parallel-item {\n",
       "  display: flex;\n",
       "  flex-direction: column;\n",
       "}\n",
       "\n",
       "#sk-container-id-2 div.sk-parallel-item:first-child::after {\n",
       "  align-self: flex-end;\n",
       "  width: 50%;\n",
       "}\n",
       "\n",
       "#sk-container-id-2 div.sk-parallel-item:last-child::after {\n",
       "  align-self: flex-start;\n",
       "  width: 50%;\n",
       "}\n",
       "\n",
       "#sk-container-id-2 div.sk-parallel-item:only-child::after {\n",
       "  width: 0;\n",
       "}\n",
       "\n",
       "/* Serial-specific style estimator block */\n",
       "\n",
       "#sk-container-id-2 div.sk-serial {\n",
       "  display: flex;\n",
       "  flex-direction: column;\n",
       "  align-items: center;\n",
       "  background-color: var(--sklearn-color-background);\n",
       "  padding-right: 1em;\n",
       "  padding-left: 1em;\n",
       "}\n",
       "\n",
       "\n",
       "/* Toggleable style: style used for estimator/Pipeline/ColumnTransformer box that is\n",
       "clickable and can be expanded/collapsed.\n",
       "- Pipeline and ColumnTransformer use this feature and define the default style\n",
       "- Estimators will overwrite some part of the style using the `sk-estimator` class\n",
       "*/\n",
       "\n",
       "/* Pipeline and ColumnTransformer style (default) */\n",
       "\n",
       "#sk-container-id-2 div.sk-toggleable {\n",
       "  /* Default theme specific background. It is overwritten whether we have a\n",
       "  specific estimator or a Pipeline/ColumnTransformer */\n",
       "  background-color: var(--sklearn-color-background);\n",
       "}\n",
       "\n",
       "/* Toggleable label */\n",
       "#sk-container-id-2 label.sk-toggleable__label {\n",
       "  cursor: pointer;\n",
       "  display: block;\n",
       "  width: 100%;\n",
       "  margin-bottom: 0;\n",
       "  padding: 0.5em;\n",
       "  box-sizing: border-box;\n",
       "  text-align: center;\n",
       "}\n",
       "\n",
       "#sk-container-id-2 label.sk-toggleable__label-arrow:before {\n",
       "  /* Arrow on the left of the label */\n",
       "  content: \"▸\";\n",
       "  float: left;\n",
       "  margin-right: 0.25em;\n",
       "  color: var(--sklearn-color-icon);\n",
       "}\n",
       "\n",
       "#sk-container-id-2 label.sk-toggleable__label-arrow:hover:before {\n",
       "  color: var(--sklearn-color-text);\n",
       "}\n",
       "\n",
       "/* Toggleable content - dropdown */\n",
       "\n",
       "#sk-container-id-2 div.sk-toggleable__content {\n",
       "  max-height: 0;\n",
       "  max-width: 0;\n",
       "  overflow: hidden;\n",
       "  text-align: left;\n",
       "  /* unfitted */\n",
       "  background-color: var(--sklearn-color-unfitted-level-0);\n",
       "}\n",
       "\n",
       "#sk-container-id-2 div.sk-toggleable__content.fitted {\n",
       "  /* fitted */\n",
       "  background-color: var(--sklearn-color-fitted-level-0);\n",
       "}\n",
       "\n",
       "#sk-container-id-2 div.sk-toggleable__content pre {\n",
       "  margin: 0.2em;\n",
       "  border-radius: 0.25em;\n",
       "  color: var(--sklearn-color-text);\n",
       "  /* unfitted */\n",
       "  background-color: var(--sklearn-color-unfitted-level-0);\n",
       "}\n",
       "\n",
       "#sk-container-id-2 div.sk-toggleable__content.fitted pre {\n",
       "  /* unfitted */\n",
       "  background-color: var(--sklearn-color-fitted-level-0);\n",
       "}\n",
       "\n",
       "#sk-container-id-2 input.sk-toggleable__control:checked~div.sk-toggleable__content {\n",
       "  /* Expand drop-down */\n",
       "  max-height: 200px;\n",
       "  max-width: 100%;\n",
       "  overflow: auto;\n",
       "}\n",
       "\n",
       "#sk-container-id-2 input.sk-toggleable__control:checked~label.sk-toggleable__label-arrow:before {\n",
       "  content: \"▾\";\n",
       "}\n",
       "\n",
       "/* Pipeline/ColumnTransformer-specific style */\n",
       "\n",
       "#sk-container-id-2 div.sk-label input.sk-toggleable__control:checked~label.sk-toggleable__label {\n",
       "  color: var(--sklearn-color-text);\n",
       "  background-color: var(--sklearn-color-unfitted-level-2);\n",
       "}\n",
       "\n",
       "#sk-container-id-2 div.sk-label.fitted input.sk-toggleable__control:checked~label.sk-toggleable__label {\n",
       "  background-color: var(--sklearn-color-fitted-level-2);\n",
       "}\n",
       "\n",
       "/* Estimator-specific style */\n",
       "\n",
       "/* Colorize estimator box */\n",
       "#sk-container-id-2 div.sk-estimator input.sk-toggleable__control:checked~label.sk-toggleable__label {\n",
       "  /* unfitted */\n",
       "  background-color: var(--sklearn-color-unfitted-level-2);\n",
       "}\n",
       "\n",
       "#sk-container-id-2 div.sk-estimator.fitted input.sk-toggleable__control:checked~label.sk-toggleable__label {\n",
       "  /* fitted */\n",
       "  background-color: var(--sklearn-color-fitted-level-2);\n",
       "}\n",
       "\n",
       "#sk-container-id-2 div.sk-label label.sk-toggleable__label,\n",
       "#sk-container-id-2 div.sk-label label {\n",
       "  /* The background is the default theme color */\n",
       "  color: var(--sklearn-color-text-on-default-background);\n",
       "}\n",
       "\n",
       "/* On hover, darken the color of the background */\n",
       "#sk-container-id-2 div.sk-label:hover label.sk-toggleable__label {\n",
       "  color: var(--sklearn-color-text);\n",
       "  background-color: var(--sklearn-color-unfitted-level-2);\n",
       "}\n",
       "\n",
       "/* Label box, darken color on hover, fitted */\n",
       "#sk-container-id-2 div.sk-label.fitted:hover label.sk-toggleable__label.fitted {\n",
       "  color: var(--sklearn-color-text);\n",
       "  background-color: var(--sklearn-color-fitted-level-2);\n",
       "}\n",
       "\n",
       "/* Estimator label */\n",
       "\n",
       "#sk-container-id-2 div.sk-label label {\n",
       "  font-family: monospace;\n",
       "  font-weight: bold;\n",
       "  display: inline-block;\n",
       "  line-height: 1.2em;\n",
       "}\n",
       "\n",
       "#sk-container-id-2 div.sk-label-container {\n",
       "  text-align: center;\n",
       "}\n",
       "\n",
       "/* Estimator-specific */\n",
       "#sk-container-id-2 div.sk-estimator {\n",
       "  font-family: monospace;\n",
       "  border: 1px dotted var(--sklearn-color-border-box);\n",
       "  border-radius: 0.25em;\n",
       "  box-sizing: border-box;\n",
       "  margin-bottom: 0.5em;\n",
       "  /* unfitted */\n",
       "  background-color: var(--sklearn-color-unfitted-level-0);\n",
       "}\n",
       "\n",
       "#sk-container-id-2 div.sk-estimator.fitted {\n",
       "  /* fitted */\n",
       "  background-color: var(--sklearn-color-fitted-level-0);\n",
       "}\n",
       "\n",
       "/* on hover */\n",
       "#sk-container-id-2 div.sk-estimator:hover {\n",
       "  /* unfitted */\n",
       "  background-color: var(--sklearn-color-unfitted-level-2);\n",
       "}\n",
       "\n",
       "#sk-container-id-2 div.sk-estimator.fitted:hover {\n",
       "  /* fitted */\n",
       "  background-color: var(--sklearn-color-fitted-level-2);\n",
       "}\n",
       "\n",
       "/* Specification for estimator info (e.g. \"i\" and \"?\") */\n",
       "\n",
       "/* Common style for \"i\" and \"?\" */\n",
       "\n",
       ".sk-estimator-doc-link,\n",
       "a:link.sk-estimator-doc-link,\n",
       "a:visited.sk-estimator-doc-link {\n",
       "  float: right;\n",
       "  font-size: smaller;\n",
       "  line-height: 1em;\n",
       "  font-family: monospace;\n",
       "  background-color: var(--sklearn-color-background);\n",
       "  border-radius: 1em;\n",
       "  height: 1em;\n",
       "  width: 1em;\n",
       "  text-decoration: none !important;\n",
       "  margin-left: 1ex;\n",
       "  /* unfitted */\n",
       "  border: var(--sklearn-color-unfitted-level-1) 1pt solid;\n",
       "  color: var(--sklearn-color-unfitted-level-1);\n",
       "}\n",
       "\n",
       ".sk-estimator-doc-link.fitted,\n",
       "a:link.sk-estimator-doc-link.fitted,\n",
       "a:visited.sk-estimator-doc-link.fitted {\n",
       "  /* fitted */\n",
       "  border: var(--sklearn-color-fitted-level-1) 1pt solid;\n",
       "  color: var(--sklearn-color-fitted-level-1);\n",
       "}\n",
       "\n",
       "/* On hover */\n",
       "div.sk-estimator:hover .sk-estimator-doc-link:hover,\n",
       ".sk-estimator-doc-link:hover,\n",
       "div.sk-label-container:hover .sk-estimator-doc-link:hover,\n",
       ".sk-estimator-doc-link:hover {\n",
       "  /* unfitted */\n",
       "  background-color: var(--sklearn-color-unfitted-level-3);\n",
       "  color: var(--sklearn-color-background);\n",
       "  text-decoration: none;\n",
       "}\n",
       "\n",
       "div.sk-estimator.fitted:hover .sk-estimator-doc-link.fitted:hover,\n",
       ".sk-estimator-doc-link.fitted:hover,\n",
       "div.sk-label-container:hover .sk-estimator-doc-link.fitted:hover,\n",
       ".sk-estimator-doc-link.fitted:hover {\n",
       "  /* fitted */\n",
       "  background-color: var(--sklearn-color-fitted-level-3);\n",
       "  color: var(--sklearn-color-background);\n",
       "  text-decoration: none;\n",
       "}\n",
       "\n",
       "/* Span, style for the box shown on hovering the info icon */\n",
       ".sk-estimator-doc-link span {\n",
       "  display: none;\n",
       "  z-index: 9999;\n",
       "  position: relative;\n",
       "  font-weight: normal;\n",
       "  right: .2ex;\n",
       "  padding: .5ex;\n",
       "  margin: .5ex;\n",
       "  width: min-content;\n",
       "  min-width: 20ex;\n",
       "  max-width: 50ex;\n",
       "  color: var(--sklearn-color-text);\n",
       "  box-shadow: 2pt 2pt 4pt #999;\n",
       "  /* unfitted */\n",
       "  background: var(--sklearn-color-unfitted-level-0);\n",
       "  border: .5pt solid var(--sklearn-color-unfitted-level-3);\n",
       "}\n",
       "\n",
       ".sk-estimator-doc-link.fitted span {\n",
       "  /* fitted */\n",
       "  background: var(--sklearn-color-fitted-level-0);\n",
       "  border: var(--sklearn-color-fitted-level-3);\n",
       "}\n",
       "\n",
       ".sk-estimator-doc-link:hover span {\n",
       "  display: block;\n",
       "}\n",
       "\n",
       "/* \"?\"-specific style due to the `<a>` HTML tag */\n",
       "\n",
       "#sk-container-id-2 a.estimator_doc_link {\n",
       "  float: right;\n",
       "  font-size: 1rem;\n",
       "  line-height: 1em;\n",
       "  font-family: monospace;\n",
       "  background-color: var(--sklearn-color-background);\n",
       "  border-radius: 1rem;\n",
       "  height: 1rem;\n",
       "  width: 1rem;\n",
       "  text-decoration: none;\n",
       "  /* unfitted */\n",
       "  color: var(--sklearn-color-unfitted-level-1);\n",
       "  border: var(--sklearn-color-unfitted-level-1) 1pt solid;\n",
       "}\n",
       "\n",
       "#sk-container-id-2 a.estimator_doc_link.fitted {\n",
       "  /* fitted */\n",
       "  border: var(--sklearn-color-fitted-level-1) 1pt solid;\n",
       "  color: var(--sklearn-color-fitted-level-1);\n",
       "}\n",
       "\n",
       "/* On hover */\n",
       "#sk-container-id-2 a.estimator_doc_link:hover {\n",
       "  /* unfitted */\n",
       "  background-color: var(--sklearn-color-unfitted-level-3);\n",
       "  color: var(--sklearn-color-background);\n",
       "  text-decoration: none;\n",
       "}\n",
       "\n",
       "#sk-container-id-2 a.estimator_doc_link.fitted:hover {\n",
       "  /* fitted */\n",
       "  background-color: var(--sklearn-color-fitted-level-3);\n",
       "}\n",
       "</style><div id=\"sk-container-id-2\" class=\"sk-top-container\"><div class=\"sk-text-repr-fallback\"><pre>LinearRegression()</pre><b>In a Jupyter environment, please rerun this cell to show the HTML representation or trust the notebook. <br />On GitHub, the HTML representation is unable to render, please try loading this page with nbviewer.org.</b></div><div class=\"sk-container\" hidden><div class=\"sk-item\"><div class=\"sk-estimator fitted sk-toggleable\"><input class=\"sk-toggleable__control sk-hidden--visually\" id=\"sk-estimator-id-2\" type=\"checkbox\" checked><label for=\"sk-estimator-id-2\" class=\"sk-toggleable__label fitted sk-toggleable__label-arrow fitted\">&nbsp;&nbsp;LinearRegression<a class=\"sk-estimator-doc-link fitted\" rel=\"noreferrer\" target=\"_blank\" href=\"https://scikit-learn.org/1.4/modules/generated/sklearn.linear_model.LinearRegression.html\">?<span>Documentation for LinearRegression</span></a><span class=\"sk-estimator-doc-link fitted\">i<span>Fitted</span></span></label><div class=\"sk-toggleable__content fitted\"><pre>LinearRegression()</pre></div> </div></div></div></div>"
      ],
      "text/plain": [
       "LinearRegression()"
      ]
     },
     "execution_count": 56,
     "metadata": {},
     "output_type": "execute_result"
    }
   ],
   "source": [
    "model = LinearRegression()  # инициализирование модели LinearRegression\n",
    "model.fit(X_train, y_train)  # обучение модели на тренировочной выборке"
   ]
  },
  {
   "cell_type": "code",
   "execution_count": 57,
   "id": "7cc682a7-d753-472f-bb01-f19984cc22c0",
   "metadata": {},
   "outputs": [
    {
     "name": "stdout",
     "output_type": "stream",
     "text": [
      "a: [1.26318963]\n",
      "b: 10.571872833818473\n"
     ]
    }
   ],
   "source": [
    "# получение коэффициента регрессии\n",
    "a_model = model.coef_\n",
    "b_model = model.intercept_\n",
    "print(f'a: {a_model}')\n",
    "print(f'b: {b_model}')"
   ]
  },
  {
   "cell_type": "code",
   "execution_count": 58,
   "id": "516b7024-59a8-4949-8e04-8b10c4342453",
   "metadata": {},
   "outputs": [],
   "source": [
    "# В простой линейной регрессии предсказания (predictions) являются оценками целевой переменной на основе входных признаков\n",
    "# После обучения модели LinearRegression на тренировочной выборке с помощью метода fit(), используется метод predict() \n",
    "# для получения предсказаний модели на валидационной выборке."
   ]
  },
  {
   "cell_type": "code",
   "execution_count": 59,
   "id": "3907425b-63f9-4e73-a0d6-d41a952c7029",
   "metadata": {},
   "outputs": [],
   "source": [
    "predictions_valid = model.predict(np.array(X_valid).reshape(-1,1)) # предсказания модели на валидационной выборке"
   ]
  },
  {
   "cell_type": "code",
   "execution_count": 60,
   "id": "46d42eaa-5912-41e5-9f8f-349316b16808",
   "metadata": {},
   "outputs": [
    {
     "data": {
      "text/plain": [
       "array([10.11236543, 11.94406401,  9.48665537, ..., 11.32377333,\n",
       "       10.7206018 ,  9.49126437])"
      ]
     },
     "execution_count": 60,
     "metadata": {},
     "output_type": "execute_result"
    }
   ],
   "source": [
    "predictions_valid"
   ]
  },
  {
   "cell_type": "code",
   "execution_count": 61,
   "id": "72fae004-cee6-491d-9032-c3cdc84bc079",
   "metadata": {},
   "outputs": [],
   "source": [
    "df_match = pd.DataFrame({'Actual': y_valid, 'Predicted': predictions_valid}) # датафрейм для сравнения предсказанных значений и реальных"
   ]
  },
  {
   "cell_type": "code",
   "execution_count": 62,
   "id": "c24c6ab4-c82e-468f-8b87-4d3503616a38",
   "metadata": {},
   "outputs": [
    {
     "data": {
      "text/html": [
       "<div>\n",
       "<style scoped>\n",
       "    .dataframe tbody tr th:only-of-type {\n",
       "        vertical-align: middle;\n",
       "    }\n",
       "\n",
       "    .dataframe tbody tr th {\n",
       "        vertical-align: top;\n",
       "    }\n",
       "\n",
       "    .dataframe thead th {\n",
       "        text-align: right;\n",
       "    }\n",
       "</style>\n",
       "<table border=\"1\" class=\"dataframe\">\n",
       "  <thead>\n",
       "    <tr style=\"text-align: right;\">\n",
       "      <th></th>\n",
       "      <th>Actual</th>\n",
       "      <th>Predicted</th>\n",
       "    </tr>\n",
       "  </thead>\n",
       "  <tbody>\n",
       "    <tr>\n",
       "      <th>34125</th>\n",
       "      <td>3.0</td>\n",
       "      <td>10.112365</td>\n",
       "    </tr>\n",
       "    <tr>\n",
       "      <th>70290</th>\n",
       "      <td>3.0</td>\n",
       "      <td>11.944064</td>\n",
       "    </tr>\n",
       "    <tr>\n",
       "      <th>21771</th>\n",
       "      <td>61.0</td>\n",
       "      <td>9.486655</td>\n",
       "    </tr>\n",
       "    <tr>\n",
       "      <th>14750</th>\n",
       "      <td>0.0</td>\n",
       "      <td>9.131053</td>\n",
       "    </tr>\n",
       "    <tr>\n",
       "      <th>2005</th>\n",
       "      <td>2.0</td>\n",
       "      <td>8.485540</td>\n",
       "    </tr>\n",
       "    <tr>\n",
       "      <th>...</th>\n",
       "      <td>...</td>\n",
       "      <td>...</td>\n",
       "    </tr>\n",
       "    <tr>\n",
       "      <th>77792</th>\n",
       "      <td>8.0</td>\n",
       "      <td>12.324028</td>\n",
       "    </tr>\n",
       "    <tr>\n",
       "      <th>72567</th>\n",
       "      <td>6.0</td>\n",
       "      <td>12.059390</td>\n",
       "    </tr>\n",
       "    <tr>\n",
       "      <th>58043</th>\n",
       "      <td>2.0</td>\n",
       "      <td>11.323773</td>\n",
       "    </tr>\n",
       "    <tr>\n",
       "      <th>46134</th>\n",
       "      <td>55.0</td>\n",
       "      <td>10.720602</td>\n",
       "    </tr>\n",
       "    <tr>\n",
       "      <th>21862</th>\n",
       "      <td>57.0</td>\n",
       "      <td>9.491264</td>\n",
       "    </tr>\n",
       "  </tbody>\n",
       "</table>\n",
       "<p>21599 rows × 2 columns</p>\n",
       "</div>"
      ],
      "text/plain": [
       "       Actual  Predicted\n",
       "34125     3.0  10.112365\n",
       "70290     3.0  11.944064\n",
       "21771    61.0   9.486655\n",
       "14750     0.0   9.131053\n",
       "2005      2.0   8.485540\n",
       "...       ...        ...\n",
       "77792     8.0  12.324028\n",
       "72567     6.0  12.059390\n",
       "58043     2.0  11.323773\n",
       "46134    55.0  10.720602\n",
       "21862    57.0   9.491264\n",
       "\n",
       "[21599 rows x 2 columns]"
      ]
     },
     "execution_count": 62,
     "metadata": {},
     "output_type": "execute_result"
    }
   ],
   "source": [
    "df_match"
   ]
  },
  {
   "cell_type": "code",
   "execution_count": 63,
   "id": "ebb9bad4-4350-43f5-a50b-fe45f784f604",
   "metadata": {},
   "outputs": [
    {
     "data": {
      "text/html": [
       "<div>\n",
       "<style scoped>\n",
       "    .dataframe tbody tr th:only-of-type {\n",
       "        vertical-align: middle;\n",
       "    }\n",
       "\n",
       "    .dataframe tbody tr th {\n",
       "        vertical-align: top;\n",
       "    }\n",
       "\n",
       "    .dataframe thead th {\n",
       "        text-align: right;\n",
       "    }\n",
       "</style>\n",
       "<table border=\"1\" class=\"dataframe\">\n",
       "  <thead>\n",
       "    <tr style=\"text-align: right;\">\n",
       "      <th></th>\n",
       "      <th>Actual</th>\n",
       "      <th>Predicted</th>\n",
       "    </tr>\n",
       "  </thead>\n",
       "  <tbody>\n",
       "    <tr>\n",
       "      <th>0</th>\n",
       "      <td>3.0</td>\n",
       "      <td>10.112365</td>\n",
       "    </tr>\n",
       "    <tr>\n",
       "      <th>1</th>\n",
       "      <td>3.0</td>\n",
       "      <td>11.944064</td>\n",
       "    </tr>\n",
       "    <tr>\n",
       "      <th>2</th>\n",
       "      <td>61.0</td>\n",
       "      <td>9.486655</td>\n",
       "    </tr>\n",
       "    <tr>\n",
       "      <th>3</th>\n",
       "      <td>0.0</td>\n",
       "      <td>9.131053</td>\n",
       "    </tr>\n",
       "    <tr>\n",
       "      <th>4</th>\n",
       "      <td>2.0</td>\n",
       "      <td>8.485540</td>\n",
       "    </tr>\n",
       "    <tr>\n",
       "      <th>...</th>\n",
       "      <td>...</td>\n",
       "      <td>...</td>\n",
       "    </tr>\n",
       "    <tr>\n",
       "      <th>21594</th>\n",
       "      <td>8.0</td>\n",
       "      <td>12.324028</td>\n",
       "    </tr>\n",
       "    <tr>\n",
       "      <th>21595</th>\n",
       "      <td>6.0</td>\n",
       "      <td>12.059390</td>\n",
       "    </tr>\n",
       "    <tr>\n",
       "      <th>21596</th>\n",
       "      <td>2.0</td>\n",
       "      <td>11.323773</td>\n",
       "    </tr>\n",
       "    <tr>\n",
       "      <th>21597</th>\n",
       "      <td>55.0</td>\n",
       "      <td>10.720602</td>\n",
       "    </tr>\n",
       "    <tr>\n",
       "      <th>21598</th>\n",
       "      <td>57.0</td>\n",
       "      <td>9.491264</td>\n",
       "    </tr>\n",
       "  </tbody>\n",
       "</table>\n",
       "<p>21599 rows × 2 columns</p>\n",
       "</div>"
      ],
      "text/plain": [
       "       Actual  Predicted\n",
       "0         3.0  10.112365\n",
       "1         3.0  11.944064\n",
       "2        61.0   9.486655\n",
       "3         0.0   9.131053\n",
       "4         2.0   8.485540\n",
       "...       ...        ...\n",
       "21594     8.0  12.324028\n",
       "21595     6.0  12.059390\n",
       "21596     2.0  11.323773\n",
       "21597    55.0  10.720602\n",
       "21598    57.0   9.491264\n",
       "\n",
       "[21599 rows x 2 columns]"
      ]
     },
     "execution_count": 63,
     "metadata": {},
     "output_type": "execute_result"
    }
   ],
   "source": [
    "df_match.reset_index(drop= True)  # сброс индексации"
   ]
  },
  {
   "cell_type": "code",
   "execution_count": 64,
   "id": "19445a1a-e92f-4220-ab1c-8d3fbbb836a3",
   "metadata": {},
   "outputs": [
    {
     "name": "stdout",
     "output_type": "stream",
     "text": [
      "Mean Squared Error: 367.11476560214453\n"
     ]
    }
   ],
   "source": [
    "print('Mean Squared Error:', mean_squared_error(y_valid, predictions_valid))  # Расчет среднеквадратической ошибки (MSE)"
   ]
  },
  {
   "cell_type": "code",
   "execution_count": 65,
   "id": "af9dfc84-51b4-4f0d-aecf-4b93b0a87aaf",
   "metadata": {},
   "outputs": [],
   "source": [
    "# MSE: Чем меньшее у модели значение среднеквадратической ошибки, тем меньше грубых ошибок. Данная метрика отражает влияние именно больших ошибок на качество модели. \n",
    "# Однако, если на одном или нескольких неудачных примерах, возможно, содержащих аномальные значения(выбросы) будет допущена значительная ошибка, то возведение в квадрат приведёт к ложному выводу, что вся модель работает плохо. (один из недостатков использования метрики)\n",
    "\n",
    "# Средняя квадратичная ошибка предсказаний модели составляет 367 единиц, что говорит о совсем не точных предсказаний.\n",
    "# Модель сделала грубые ошибочные прогнозы."
   ]
  },
  {
   "cell_type": "code",
   "execution_count": null,
   "id": "3685b32a-f406-41eb-8591-6421557e22aa",
   "metadata": {},
   "outputs": [],
   "source": []
  },
  {
   "cell_type": "code",
   "execution_count": 66,
   "id": "7a3f4c18-4cb2-461f-a8a7-7f527d50889e",
   "metadata": {},
   "outputs": [
    {
     "data": {
      "text/plain": [
       "<Figure size 1000x800 with 0 Axes>"
      ]
     },
     "execution_count": 66,
     "metadata": {},
     "output_type": "execute_result"
    },
    {
     "data": {
      "image/png": "[encoded data removed]",
      "text/plain": [
       "<Figure size 640x480 with 1 Axes>"
      ]
     },
     "metadata": {},
     "output_type": "display_data"
    },
    {
     "data": {
      "text/plain": [
       "<Figure size 1000x800 with 0 Axes>"
      ]
     },
     "metadata": {},
     "output_type": "display_data"
    }
   ],
   "source": [
    "# Параметры размера точек и графика\n",
    "point_size = 10\n",
    "figure_size = (10, 8)\n",
    "\n",
    "# Зависимость целевого столбца от конкретного столбца x1 (точечный график)\n",
    "plt.scatter(X_c, y, s=point_size)\n",
    "\n",
    "# Линейная регрессия\n",
    "plt.plot(X_valid, predictions_valid, \"r\")\n",
    "\n",
    "\n",
    "# Дополнительные параметры графика\n",
    "plt.xlabel('x1')\n",
    "plt.ylabel('Target')\n",
    "plt.title('Сравнение предсказанных с истинными')\n",
    "plt.legend(['Истинные значения', 'Линия регрессии'])\n",
    "# Установка размеров графика\n",
    "plt.figure(figsize=figure_size)\n"
   ]
  },
  {
   "cell_type": "code",
   "execution_count": 67,
   "id": "618629fc-38ed-4a67-aa1c-025832d93a2b",
   "metadata": {},
   "outputs": [],
   "source": [
    "# Модель линейной регрессии не может предсказывать достаточно точно количество сообщений в течении суток"
   ]
  },
  {
   "cell_type": "code",
   "execution_count": 68,
   "id": "07ac5b27-feef-4091-bc6f-4f94f7aafab9",
   "metadata": {},
   "outputs": [],
   "source": [
    "# ВТОРОЙ СПОСОБ НАХОЖДЕНИЯ ЛИНЕЙНОЙ РЕГРЕССИИ (БЕЗ ИСПОЛЬЗОВАНИЯ СПЕЦ. БИБЛИОТЕК)"
   ]
  },
  {
   "cell_type": "code",
   "execution_count": 69,
   "id": "b28fb629-b20c-4322-b865-3f2056e593a5",
   "metadata": {},
   "outputs": [
    {
     "data": {
      "text/html": [
       "<div>\n",
       "<style scoped>\n",
       "    .dataframe tbody tr th:only-of-type {\n",
       "        vertical-align: middle;\n",
       "    }\n",
       "\n",
       "    .dataframe tbody tr th {\n",
       "        vertical-align: top;\n",
       "    }\n",
       "\n",
       "    .dataframe thead th {\n",
       "        text-align: right;\n",
       "    }\n",
       "</style>\n",
       "<table border=\"1\" class=\"dataframe\">\n",
       "  <thead>\n",
       "    <tr style=\"text-align: right;\">\n",
       "      <th></th>\n",
       "      <th>time</th>\n",
       "      <th>count_messages</th>\n",
       "    </tr>\n",
       "  </thead>\n",
       "  <tbody>\n",
       "    <tr>\n",
       "      <th>0</th>\n",
       "      <td>00:00:00</td>\n",
       "      <td>0.0</td>\n",
       "    </tr>\n",
       "    <tr>\n",
       "      <th>1</th>\n",
       "      <td>00:00:01</td>\n",
       "      <td>1.0</td>\n",
       "    </tr>\n",
       "    <tr>\n",
       "      <th>2</th>\n",
       "      <td>00:00:02</td>\n",
       "      <td>0.0</td>\n",
       "    </tr>\n",
       "    <tr>\n",
       "      <th>3</th>\n",
       "      <td>00:00:03</td>\n",
       "      <td>6.0</td>\n",
       "    </tr>\n",
       "    <tr>\n",
       "      <th>4</th>\n",
       "      <td>00:00:04</td>\n",
       "      <td>7.0</td>\n",
       "    </tr>\n",
       "    <tr>\n",
       "      <th>...</th>\n",
       "      <td>...</td>\n",
       "      <td>...</td>\n",
       "    </tr>\n",
       "    <tr>\n",
       "      <th>86391</th>\n",
       "      <td>23:59:51</td>\n",
       "      <td>0.0</td>\n",
       "    </tr>\n",
       "    <tr>\n",
       "      <th>86392</th>\n",
       "      <td>23:59:52</td>\n",
       "      <td>0.0</td>\n",
       "    </tr>\n",
       "    <tr>\n",
       "      <th>86393</th>\n",
       "      <td>23:59:53</td>\n",
       "      <td>3.0</td>\n",
       "    </tr>\n",
       "    <tr>\n",
       "      <th>86394</th>\n",
       "      <td>23:59:54</td>\n",
       "      <td>1.0</td>\n",
       "    </tr>\n",
       "    <tr>\n",
       "      <th>86395</th>\n",
       "      <td>23:59:55</td>\n",
       "      <td>1.0</td>\n",
       "    </tr>\n",
       "  </tbody>\n",
       "</table>\n",
       "<p>86396 rows × 2 columns</p>\n",
       "</div>"
      ],
      "text/plain": [
       "           time  count_messages\n",
       "0      00:00:00             0.0\n",
       "1      00:00:01             1.0\n",
       "2      00:00:02             0.0\n",
       "3      00:00:03             6.0\n",
       "4      00:00:04             7.0\n",
       "...         ...             ...\n",
       "86391  23:59:51             0.0\n",
       "86392  23:59:52             0.0\n",
       "86393  23:59:53             3.0\n",
       "86394  23:59:54             1.0\n",
       "86395  23:59:55             1.0\n",
       "\n",
       "[86396 rows x 2 columns]"
      ]
     },
     "execution_count": 69,
     "metadata": {},
     "output_type": "execute_result"
    }
   ],
   "source": [
    "df"
   ]
  },
  {
   "cell_type": "code",
   "execution_count": 70,
   "id": "18ae082a-67fc-48bd-adfe-0114b49103c7",
   "metadata": {},
   "outputs": [],
   "source": [
    "y_array = np.array(y)  # Приведение в тип данных массив "
   ]
  },
  {
   "cell_type": "code",
   "execution_count": 71,
   "id": "fa9da698-533e-4420-8772-4d3292878b99",
   "metadata": {},
   "outputs": [],
   "source": [
    "x_mean = np.mean(X_c)"
   ]
  },
  {
   "cell_type": "code",
   "execution_count": 72,
   "id": "1f78f341-a167-42cd-aca4-95d6193c0157",
   "metadata": {},
   "outputs": [],
   "source": [
    "y_mean = np.mean(y_array)"
   ]
  },
  {
   "cell_type": "code",
   "execution_count": 73,
   "id": "cfd6a553-06b1-4253-80fb-4221d88c783d",
   "metadata": {},
   "outputs": [],
   "source": [
    "sqrt_x_array = np.array([x_i ** 2 for x_i in X_c])"
   ]
  },
  {
   "cell_type": "code",
   "execution_count": 74,
   "id": "04e6b789-86d5-470a-9463-35a8e2ddd159",
   "metadata": {},
   "outputs": [],
   "source": [
    "mean_sqrt_x = np.mean(sqrt_x_array)"
   ]
  },
  {
   "cell_type": "code",
   "execution_count": 75,
   "id": "0f4ac5c0-c647-4f58-8cb6-fa8ae4c43f6b",
   "metadata": {},
   "outputs": [
    {
     "data": {
      "text/plain": [
       "1.0"
      ]
     },
     "execution_count": 75,
     "metadata": {},
     "output_type": "execute_result"
    }
   ],
   "source": [
    "mean_sqrt_x"
   ]
  },
  {
   "cell_type": "code",
   "execution_count": 76,
   "id": "fafd85a8-5303-4c80-b026-a103e6a448f4",
   "metadata": {},
   "outputs": [],
   "source": [
    "prod_x_y = np.array([x_i * y_i for x_i, y_i in zip(X_c, y_array)])"
   ]
  },
  {
   "cell_type": "code",
   "execution_count": 77,
   "id": "80457d6c-57d8-4021-93db-686463427b3c",
   "metadata": {},
   "outputs": [
    {
     "data": {
      "text/plain": [
       "array([[-0.        ],\n",
       "       [-1.73199066],\n",
       "       [-0.        ],\n",
       "       ...,\n",
       "       [ 5.19585171],\n",
       "       [ 1.73199066],\n",
       "       [ 1.73203076]])"
      ]
     },
     "execution_count": 77,
     "metadata": {},
     "output_type": "execute_result"
    }
   ],
   "source": [
    "prod_x_y"
   ]
  },
  {
   "cell_type": "code",
   "execution_count": 78,
   "id": "87f4eb1b-1dbf-4113-9700-871cb8561061",
   "metadata": {},
   "outputs": [],
   "source": [
    "mean_prod_x_y = np.mean(prod_x_y)"
   ]
  },
  {
   "cell_type": "code",
   "execution_count": 79,
   "id": "97e9966f-53fd-415f-837a-ccbf20141dce",
   "metadata": {},
   "outputs": [],
   "source": [
    "b = (y_mean * x_mean - mean_prod_x_y) / (x_mean ** 2 - mean_sqrt_x)"
   ]
  },
  {
   "cell_type": "code",
   "execution_count": 80,
   "id": "6b443394-e357-4f31-9169-3640f8be6861",
   "metadata": {},
   "outputs": [
    {
     "data": {
      "text/plain": [
       "1.2809761050282296"
      ]
     },
     "execution_count": 80,
     "metadata": {},
     "output_type": "execute_result"
    }
   ],
   "source": [
    "b"
   ]
  },
  {
   "cell_type": "code",
   "execution_count": 81,
   "id": "32c244fd-2e39-46a1-845b-1c565d34d740",
   "metadata": {},
   "outputs": [],
   "source": [
    "a = y_mean - b * x_mean"
   ]
  },
  {
   "cell_type": "code",
   "execution_count": 82,
   "id": "cbdbd162-cd9d-4125-a49f-9eca396b7d20",
   "metadata": {},
   "outputs": [
    {
     "data": {
      "text/plain": [
       "10.582283902032502"
      ]
     },
     "execution_count": 82,
     "metadata": {},
     "output_type": "execute_result"
    }
   ],
   "source": [
    "a"
   ]
  },
  {
   "cell_type": "code",
   "execution_count": 83,
   "id": "0dab2284-f690-4325-bca5-af475f33c091",
   "metadata": {},
   "outputs": [],
   "source": [
    "# Коэфициенты линейной регресии почти совпадают с теми, которые расчитала модель"
   ]
  },
  {
   "cell_type": "code",
   "execution_count": 84,
   "id": "5bf12a44-88b2-4a36-b5e4-5fefb4302444",
   "metadata": {},
   "outputs": [
    {
     "data": {
      "text/plain": [
       "<Figure size 1000x800 with 0 Axes>"
      ]
     },
     "execution_count": 84,
     "metadata": {},
     "output_type": "execute_result"
    },
    {
     "data": {
      "image/png": "[encoded data removed]",
      "text/plain": [
       "<Figure size 640x480 with 1 Axes>"
      ]
     },
     "metadata": {},
     "output_type": "display_data"
    },
    {
     "data": {
      "text/plain": [
       "<Figure size 1000x800 with 0 Axes>"
      ]
     },
     "metadata": {},
     "output_type": "display_data"
    }
   ],
   "source": [
    "# Параметры размера точек и графика\n",
    "point_size = 10\n",
    "figure_size = (10, 8)\n",
    "\n",
    "# Зависимость целевого столбца от конкретного столбца X (точечный график)\n",
    "plt.scatter(X_c, y, s=point_size)\n",
    "\n",
    "# Линейная регрессия\n",
    "plt.plot(X_c, a + b * X_c, \"r\")\n",
    "\n",
    "\n",
    "# Дополнительные параметры графика\n",
    "plt.xlabel('x1')\n",
    "plt.ylabel('Target')\n",
    "plt.title('Сравнение предсказанных с истинными')\n",
    "plt.legend(['Истинные значения', 'Линия регрессии'])\n",
    "# Установка размеров графика\n",
    "plt.figure(figsize=figure_size)"
   ]
  },
  {
   "cell_type": "code",
   "execution_count": 85,
   "id": "f4b9e6dc-dbd7-467e-b755-1a227fc108a3",
   "metadata": {},
   "outputs": [],
   "source": [
    "y_predicted = np.array([a + b * x for x in X_c])"
   ]
  },
  {
   "cell_type": "code",
   "execution_count": 86,
   "id": "85b4c244",
   "metadata": {},
   "outputs": [],
   "source": [
    "MSE_model2 = sum(np.array([(y - y_pred)** 2 for y, y_pred in zip(y_array, y_predicted)])) / 86396"
   ]
  },
  {
   "cell_type": "code",
   "execution_count": 87,
   "id": "17d52521",
   "metadata": {},
   "outputs": [
    {
     "data": {
      "text/plain": [
       "array([365.39799141])"
      ]
     },
     "execution_count": 87,
     "metadata": {},
     "output_type": "execute_result"
    }
   ],
   "source": [
    "MSE_model2"
   ]
  },
  {
   "cell_type": "code",
   "execution_count": 88,
   "id": "90ea9b82",
   "metadata": {},
   "outputs": [
    {
     "data": {
      "text/plain": [
       "' ВЫВОДЫ О КАЧЕСТВЕ МОДЕЛЕЙ\\nЗначение MSE первой модели (с помощью библиотеки scikit-learn) -  367.115\\nЗначение MSE первой модели(с помощью метода наименьших квадратов - система линейных уравнений) - 365.398 \\n\\nИсходя из предоставленных значений MSE (Mean Squared Error), можно сделать вывод, \\nчто вторая модель имеет незначительно меньшее значение MSE (365.398)\\nпо сравнению с первой моделью (367.115).\\n\\nВторая модель имеет более низкую ошибку прогнозирования и,\\nскорее всего, может быть чуть более точной для данного набора данных по сравнению с первой моделью\\n'"
      ]
     },
     "execution_count": 88,
     "metadata": {},
     "output_type": "execute_result"
    }
   ],
   "source": [
    "''' ВЫВОДЫ О КАЧЕСТВЕ МОДЕЛЕЙ\n",
    "Значение MSE первой модели (с помощью библиотеки scikit-learn) -  367.115\n",
    "Значение MSE первой модели(с помощью метода наименьших квадратов - система линейных уравнений) - 365.398 \n",
    "\n",
    "Исходя из предоставленных значений MSE (Mean Squared Error), можно сделать вывод, \n",
    "что вторая модель имеет незначительно меньшее значение MSE (365.398)\n",
    "по сравнению с первой моделью (367.115).\n",
    "\n",
    "Вторая модель имеет более низкую ошибку прогнозирования и,\n",
    "скорее всего, может быть чуть более точной для данного набора данных по сравнению с первой моделью\n",
    "'''"
   ]
  }
 ],
 "metadata": {
  "kernelspec": {
   "display_name": "Python 3 (ipykernel)",
   "language": "python",
   "name": "python3"
  },
  "language_info": {
   "codemirror_mode": {
    "name": "ipython",
    "version": 3
   },
   "file_extension": ".py",
   "mimetype": "text/x-python",
   "name": "python",
   "nbconvert_exporter": "python",
   "pygments_lexer": "ipython3",
   "version": "3.10.5"
  }
 },
 "nbformat": 4,
 "nbformat_minor": 5
}
